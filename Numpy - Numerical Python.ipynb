{
 "cells": [
  {
   "cell_type": "markdown",
   "id": "0192968f",
   "metadata": {},
   "source": [
    "# Numerical Python- Numpy"
   ]
  },
  {
   "cell_type": "markdown",
   "id": "ac485cc1",
   "metadata": {},
   "source": [
    "### 1D Arrays with Numpy"
   ]
  },
  {
   "cell_type": "code",
   "execution_count": 1,
   "id": "4e8d2072",
   "metadata": {},
   "outputs": [],
   "source": [
    "import numpy as np"
   ]
  },
  {
   "cell_type": "code",
   "execution_count": 2,
   "id": "8ffdc977",
   "metadata": {},
   "outputs": [
    {
     "data": {
      "text/plain": [
       "[100, 500, 422, 800]"
      ]
     },
     "execution_count": 2,
     "metadata": {},
     "output_type": "execute_result"
    }
   ],
   "source": [
    "createAlist=[100,500,422,800]\n",
    "createAlist"
   ]
  },
  {
   "cell_type": "code",
   "execution_count": 5,
   "id": "8f838023",
   "metadata": {},
   "outputs": [
    {
     "data": {
      "text/plain": [
       "array([100, 500, 422, 800])"
      ]
     },
     "execution_count": 5,
     "metadata": {},
     "output_type": "execute_result"
    }
   ],
   "source": [
    "#in numpy array\n",
    "\n",
    "a=np.array(createAlist)\n",
    "a"
   ]
  },
  {
   "cell_type": "code",
   "execution_count": 6,
   "id": "51b7c961",
   "metadata": {},
   "outputs": [
    {
     "data": {
      "text/plain": [
       "numpy.ndarray"
      ]
     },
     "execution_count": 6,
     "metadata": {},
     "output_type": "execute_result"
    }
   ],
   "source": [
    "type(a)"
   ]
  },
  {
   "cell_type": "code",
   "execution_count": 7,
   "id": "1db8aab3",
   "metadata": {},
   "outputs": [
    {
     "data": {
      "text/plain": [
       "list"
      ]
     },
     "execution_count": 7,
     "metadata": {},
     "output_type": "execute_result"
    }
   ],
   "source": [
    "type(createAlist)"
   ]
  },
  {
   "cell_type": "code",
   "execution_count": 9,
   "id": "8b879c4b",
   "metadata": {},
   "outputs": [
    {
     "data": {
      "text/plain": [
       "[100, 500, 422, 800, 100, 500, 422, 800]"
      ]
     },
     "execution_count": 9,
     "metadata": {},
     "output_type": "execute_result"
    }
   ],
   "source": [
    "\"\"\"If we do arithmetic operation in List with number, see what happens\"\"\"\n",
    "\n",
    "createAlist*2"
   ]
  },
  {
   "cell_type": "markdown",
   "id": "dedecba5",
   "metadata": {},
   "source": [
    ">it will just do the list list concatenation. However if we do arithmetic operation in numpy array see what happens"
   ]
  },
  {
   "cell_type": "code",
   "execution_count": 8,
   "id": "eb836a69",
   "metadata": {},
   "outputs": [
    {
     "data": {
      "text/plain": [
       "array([ 300, 1500, 1266, 2400])"
      ]
     },
     "execution_count": 8,
     "metadata": {},
     "output_type": "execute_result"
    }
   ],
   "source": [
    "#Arithmathic operation using Numpy\n",
    "\n",
    "a*3"
   ]
  },
  {
   "cell_type": "markdown",
   "id": "552478ff",
   "metadata": {},
   "source": [
    "### Subsetting & Slicing in Numpy 1D array"
   ]
  },
  {
   "cell_type": "code",
   "execution_count": 10,
   "id": "ec25da16",
   "metadata": {},
   "outputs": [
    {
     "data": {
      "text/plain": [
       "array([100, 500, 422, 800])"
      ]
     },
     "execution_count": 10,
     "metadata": {},
     "output_type": "execute_result"
    }
   ],
   "source": [
    "a"
   ]
  },
  {
   "cell_type": "code",
   "execution_count": 11,
   "id": "ca790f0b",
   "metadata": {},
   "outputs": [
    {
     "data": {
      "text/plain": [
       "422"
      ]
     },
     "execution_count": 11,
     "metadata": {},
     "output_type": "execute_result"
    }
   ],
   "source": [
    "a[2]"
   ]
  },
  {
   "cell_type": "code",
   "execution_count": 12,
   "id": "28b90858",
   "metadata": {},
   "outputs": [
    {
     "data": {
      "text/plain": [
       "array([100, 500, 422])"
      ]
     },
     "execution_count": 12,
     "metadata": {},
     "output_type": "execute_result"
    }
   ],
   "source": [
    "a[0:3]"
   ]
  },
  {
   "cell_type": "code",
   "execution_count": 13,
   "id": "6f3db462",
   "metadata": {},
   "outputs": [
    {
     "data": {
      "text/plain": [
       "array([100, 500, 422])"
      ]
     },
     "execution_count": 13,
     "metadata": {},
     "output_type": "execute_result"
    }
   ],
   "source": [
    "a[-4:-1]"
   ]
  },
  {
   "cell_type": "code",
   "execution_count": 14,
   "id": "bf3ac026",
   "metadata": {},
   "outputs": [
    {
     "data": {
      "text/plain": [
       "array([100, 500, 422, 800])"
      ]
     },
     "execution_count": 14,
     "metadata": {},
     "output_type": "execute_result"
    }
   ],
   "source": [
    "a[:]"
   ]
  },
  {
   "cell_type": "markdown",
   "id": "180f3031",
   "metadata": {},
   "source": [
    "### Logical Indexing"
   ]
  },
  {
   "cell_type": "code",
   "execution_count": 15,
   "id": "578d468b",
   "metadata": {},
   "outputs": [
    {
     "data": {
      "text/plain": [
       "array([100, 500, 422, 800])"
      ]
     },
     "execution_count": 15,
     "metadata": {},
     "output_type": "execute_result"
    }
   ],
   "source": [
    "a"
   ]
  },
  {
   "cell_type": "code",
   "execution_count": 16,
   "id": "0258861e",
   "metadata": {},
   "outputs": [
    {
     "data": {
      "text/plain": [
       "array([False,  True,  True,  True])"
      ]
     },
     "execution_count": 16,
     "metadata": {},
     "output_type": "execute_result"
    }
   ],
   "source": [
    "a > 200"
   ]
  },
  {
   "cell_type": "code",
   "execution_count": 17,
   "id": "56923f2c",
   "metadata": {},
   "outputs": [
    {
     "data": {
      "text/plain": [
       "array([ True, False, False, False])"
      ]
     },
     "execution_count": 17,
     "metadata": {},
     "output_type": "execute_result"
    }
   ],
   "source": [
    "a == 100"
   ]
  },
  {
   "cell_type": "code",
   "execution_count": 18,
   "id": "3d07b9d6",
   "metadata": {},
   "outputs": [
    {
     "data": {
      "text/plain": [
       "array([ True,  True,  True,  True])"
      ]
     },
     "execution_count": 18,
     "metadata": {},
     "output_type": "execute_result"
    }
   ],
   "source": [
    "a != 300"
   ]
  },
  {
   "cell_type": "code",
   "execution_count": 19,
   "id": "7d12d37b",
   "metadata": {},
   "outputs": [
    {
     "data": {
      "text/plain": [
       "array([False,  True,  True,  True])"
      ]
     },
     "execution_count": 19,
     "metadata": {},
     "output_type": "execute_result"
    }
   ],
   "source": [
    "a >= 400"
   ]
  },
  {
   "cell_type": "code",
   "execution_count": 20,
   "id": "f0088243",
   "metadata": {},
   "outputs": [
    {
     "data": {
      "text/plain": [
       "array([False, False, False, False])"
      ]
     },
     "execution_count": 20,
     "metadata": {},
     "output_type": "execute_result"
    }
   ],
   "source": [
    "a <= 50"
   ]
  },
  {
   "cell_type": "code",
   "execution_count": 21,
   "id": "3b453d69",
   "metadata": {},
   "outputs": [
    {
     "data": {
      "text/plain": [
       "array([500, 422, 800])"
      ]
     },
     "execution_count": 21,
     "metadata": {},
     "output_type": "execute_result"
    }
   ],
   "source": [
    "a[a>300]"
   ]
  },
  {
   "cell_type": "markdown",
   "id": "591f2ef0",
   "metadata": {},
   "source": [
    "## 2D Arrays with NumPy"
   ]
  },
  {
   "cell_type": "code",
   "execution_count": 24,
   "id": "ff3f482f",
   "metadata": {},
   "outputs": [
    {
     "data": {
      "text/plain": [
       "[[0, 1, 2, 3, 4, 5, 6, 7],\n",
       " [8, 9, 10, 11, 12, 13, 14, 15],\n",
       " [16, 17, 18, 19, 20, 21, 22, 23]]"
      ]
     },
     "execution_count": 24,
     "metadata": {},
     "output_type": "execute_result"
    }
   ],
   "source": [
    "create_A_list=[list(range(0,8)),list(range(8,16)),list(range(16,24))]\n",
    "create_A_list"
   ]
  },
  {
   "cell_type": "code",
   "execution_count": 26,
   "id": "260bd58c",
   "metadata": {},
   "outputs": [
    {
     "data": {
      "text/plain": [
       "array([[ 0,  1,  2,  3,  4,  5,  6,  7],\n",
       "       [ 8,  9, 10, 11, 12, 13, 14, 15],\n",
       "       [16, 17, 18, 19, 20, 21, 22, 23]])"
      ]
     },
     "execution_count": 26,
     "metadata": {},
     "output_type": "execute_result"
    }
   ],
   "source": [
    "two_Array=np.array(create_A_list)\n",
    "two_Array"
   ]
  },
  {
   "cell_type": "markdown",
   "id": "3ce8b1f5",
   "metadata": {},
   "source": [
    "### Indexing"
   ]
  },
  {
   "cell_type": "code",
   "execution_count": 27,
   "id": "ef712f3d",
   "metadata": {},
   "outputs": [
    {
     "data": {
      "text/plain": [
       "array([0, 1, 2, 3, 4, 5, 6, 7])"
      ]
     },
     "execution_count": 27,
     "metadata": {},
     "output_type": "execute_result"
    }
   ],
   "source": [
    "two_Array[0]"
   ]
  },
  {
   "cell_type": "code",
   "execution_count": 28,
   "id": "6ef46651",
   "metadata": {},
   "outputs": [
    {
     "data": {
      "text/plain": [
       "array([ 8,  9, 10, 11, 12, 13, 14, 15])"
      ]
     },
     "execution_count": 28,
     "metadata": {},
     "output_type": "execute_result"
    }
   ],
   "source": [
    "two_Array[1]"
   ]
  },
  {
   "cell_type": "code",
   "execution_count": 29,
   "id": "e0c0fde3",
   "metadata": {},
   "outputs": [
    {
     "data": {
      "text/plain": [
       "array([16, 17, 18, 19, 20, 21, 22, 23])"
      ]
     },
     "execution_count": 29,
     "metadata": {},
     "output_type": "execute_result"
    }
   ],
   "source": [
    "two_Array[2]"
   ]
  },
  {
   "cell_type": "code",
   "execution_count": 30,
   "id": "a13acf39",
   "metadata": {},
   "outputs": [
    {
     "data": {
      "text/plain": [
       "11"
      ]
     },
     "execution_count": 30,
     "metadata": {},
     "output_type": "execute_result"
    }
   ],
   "source": [
    "#to extract data from inside the list\n",
    "\n",
    "two_Array[1][3]"
   ]
  },
  {
   "cell_type": "markdown",
   "id": "7058ce6c",
   "metadata": {},
   "source": [
    "### Slicing"
   ]
  },
  {
   "cell_type": "code",
   "execution_count": 31,
   "id": "bce6abc7",
   "metadata": {},
   "outputs": [
    {
     "data": {
      "text/plain": [
       "[[0, 1, 2, 3, 4, 5, 6, 7], [8, 9, 10, 11, 12, 13, 14, 15]]"
      ]
     },
     "execution_count": 31,
     "metadata": {},
     "output_type": "execute_result"
    }
   ],
   "source": [
    "#in list we can extract data like\n",
    "create_A_list[0:2]"
   ]
  },
  {
   "cell_type": "code",
   "execution_count": 33,
   "id": "8f9c5722",
   "metadata": {},
   "outputs": [
    {
     "ename": "TypeError",
     "evalue": "list indices must be integers or slices, not tuple",
     "output_type": "error",
     "traceback": [
      "\u001b[1;31m---------------------------------------------------------------------------\u001b[0m",
      "\u001b[1;31mTypeError\u001b[0m                                 Traceback (most recent call last)",
      "\u001b[1;32m~\\AppData\\Local\\Temp\\ipykernel_11632\\2703592275.py\u001b[0m in \u001b[0;36m<module>\u001b[1;34m\u001b[0m\n\u001b[0;32m      1\u001b[0m \u001b[1;31m#it will through error\u001b[0m\u001b[1;33m\u001b[0m\u001b[1;33m\u001b[0m\u001b[0m\n\u001b[0;32m      2\u001b[0m \u001b[1;33m\u001b[0m\u001b[0m\n\u001b[1;32m----> 3\u001b[1;33m \u001b[0mcreate_A_list\u001b[0m\u001b[1;33m[\u001b[0m\u001b[1;36m0\u001b[0m\u001b[1;33m:\u001b[0m\u001b[1;36m1\u001b[0m\u001b[1;33m,\u001b[0m\u001b[1;36m3\u001b[0m\u001b[1;33m:\u001b[0m\u001b[1;36m5\u001b[0m\u001b[1;33m]\u001b[0m\u001b[1;33m\u001b[0m\u001b[1;33m\u001b[0m\u001b[0m\n\u001b[0m",
      "\u001b[1;31mTypeError\u001b[0m: list indices must be integers or slices, not tuple"
     ]
    }
   ],
   "source": [
    "#it will through error\n",
    "\n",
    "create_A_list[0:1,3:5]"
   ]
  },
  {
   "cell_type": "code",
   "execution_count": 32,
   "id": "2030e588",
   "metadata": {},
   "outputs": [
    {
     "data": {
      "text/plain": [
       "array([[12, 13],\n",
       "       [20, 21]])"
      ]
     },
     "execution_count": 32,
     "metadata": {},
     "output_type": "execute_result"
    }
   ],
   "source": [
    "#in numpy\n",
    "\n",
    "two_Array[1:3,4:6]"
   ]
  },
  {
   "cell_type": "code",
   "execution_count": 34,
   "id": "ac561fa5",
   "metadata": {},
   "outputs": [
    {
     "data": {
      "text/plain": [
       "array([[ 1,  2,  3,  4],\n",
       "       [ 9, 10, 11, 12]])"
      ]
     },
     "execution_count": 34,
     "metadata": {},
     "output_type": "execute_result"
    }
   ],
   "source": [
    "two_Array[0:2,1:5]"
   ]
  },
  {
   "cell_type": "markdown",
   "id": "08fa991b",
   "metadata": {},
   "source": [
    "### Logical Indexing "
   ]
  },
  {
   "cell_type": "code",
   "execution_count": 35,
   "id": "4e58d614",
   "metadata": {},
   "outputs": [
    {
     "data": {
      "text/plain": [
       "array([[ 0,  1,  2,  3,  4,  5,  6,  7],\n",
       "       [ 8,  9, 10, 11, 12, 13, 14, 15],\n",
       "       [16, 17, 18, 19, 20, 21, 22, 23]])"
      ]
     },
     "execution_count": 35,
     "metadata": {},
     "output_type": "execute_result"
    }
   ],
   "source": [
    "two_Array"
   ]
  },
  {
   "cell_type": "code",
   "execution_count": 36,
   "id": "0e8ae559",
   "metadata": {},
   "outputs": [
    {
     "data": {
      "text/plain": [
       "array([[False, False, False, False, False, False, False, False],\n",
       "       [False, False, False,  True,  True,  True,  True,  True],\n",
       "       [ True,  True,  True,  True,  True,  True,  True,  True]])"
      ]
     },
     "execution_count": 36,
     "metadata": {},
     "output_type": "execute_result"
    }
   ],
   "source": [
    "two_Array > 10"
   ]
  },
  {
   "cell_type": "code",
   "execution_count": 37,
   "id": "dcab9de0",
   "metadata": {},
   "outputs": [
    {
     "data": {
      "text/plain": [
       "array([ 0,  1,  2,  3,  4,  5,  6,  7,  8,  9, 10, 11, 12, 13, 14, 15, 16,\n",
       "       17, 18, 19])"
      ]
     },
     "execution_count": 37,
     "metadata": {},
     "output_type": "execute_result"
    }
   ],
   "source": [
    "two_Array[two_Array<20]"
   ]
  },
  {
   "cell_type": "code",
   "execution_count": 38,
   "id": "289a6128",
   "metadata": {},
   "outputs": [
    {
     "data": {
      "text/plain": [
       "array([False, False, False])"
      ]
     },
     "execution_count": 38,
     "metadata": {},
     "output_type": "execute_result"
    }
   ],
   "source": [
    "two_Array[:,2] >= 20"
   ]
  },
  {
   "cell_type": "code",
   "execution_count": 39,
   "id": "6b01ccd8",
   "metadata": {},
   "outputs": [
    {
     "data": {
      "text/plain": [
       "array([18])"
      ]
     },
     "execution_count": 39,
     "metadata": {},
     "output_type": "execute_result"
    }
   ],
   "source": [
    "two_Array[:,2][two_Array[:,2] > 10]"
   ]
  },
  {
   "cell_type": "code",
   "execution_count": 41,
   "id": "a45b3c4b",
   "metadata": {},
   "outputs": [
    {
     "data": {
      "text/plain": [
       "array([18, 19, 20])"
      ]
     },
     "execution_count": 41,
     "metadata": {},
     "output_type": "execute_result"
    }
   ],
   "source": [
    "two_Array[:,2:5][two_Array[:,2:5] > 15]"
   ]
  },
  {
   "cell_type": "code",
   "execution_count": 42,
   "id": "e61ddd8e",
   "metadata": {},
   "outputs": [
    {
     "data": {
      "text/plain": [
       "array([ 2, 10, 18])"
      ]
     },
     "execution_count": 42,
     "metadata": {},
     "output_type": "execute_result"
    }
   ],
   "source": [
    "two_Array[:,2]"
   ]
  },
  {
   "cell_type": "markdown",
   "id": "5e983efd",
   "metadata": {},
   "source": [
    "# Functions In Numpy"
   ]
  },
  {
   "cell_type": "code",
   "execution_count": 43,
   "id": "dabfa20b",
   "metadata": {},
   "outputs": [
    {
     "data": {
      "text/plain": [
       "array([0, 1, 2, 3, 4])"
      ]
     },
     "execution_count": 43,
     "metadata": {},
     "output_type": "execute_result"
    }
   ],
   "source": [
    "#Create an array\n",
    "\n",
    "np.arange(5)"
   ]
  },
  {
   "cell_type": "code",
   "execution_count": 44,
   "id": "167ae607",
   "metadata": {},
   "outputs": [
    {
     "data": {
      "text/plain": [
       "array([2, 3, 4, 5, 6, 7, 8])"
      ]
     },
     "execution_count": 44,
     "metadata": {},
     "output_type": "execute_result"
    }
   ],
   "source": [
    "np.arange(2,9)"
   ]
  },
  {
   "cell_type": "code",
   "execution_count": 45,
   "id": "7a9a1fcb",
   "metadata": {},
   "outputs": [
    {
     "data": {
      "text/plain": [
       "array([2, 4, 6, 8])"
      ]
     },
     "execution_count": 45,
     "metadata": {},
     "output_type": "execute_result"
    }
   ],
   "source": [
    "np.arange(2,10,2)"
   ]
  },
  {
   "cell_type": "code",
   "execution_count": 46,
   "id": "539a828e",
   "metadata": {},
   "outputs": [
    {
     "data": {
      "text/plain": [
       "array([ 0.        ,  0.1010101 ,  0.2020202 ,  0.3030303 ,  0.4040404 ,\n",
       "        0.50505051,  0.60606061,  0.70707071,  0.80808081,  0.90909091,\n",
       "        1.01010101,  1.11111111,  1.21212121,  1.31313131,  1.41414141,\n",
       "        1.51515152,  1.61616162,  1.71717172,  1.81818182,  1.91919192,\n",
       "        2.02020202,  2.12121212,  2.22222222,  2.32323232,  2.42424242,\n",
       "        2.52525253,  2.62626263,  2.72727273,  2.82828283,  2.92929293,\n",
       "        3.03030303,  3.13131313,  3.23232323,  3.33333333,  3.43434343,\n",
       "        3.53535354,  3.63636364,  3.73737374,  3.83838384,  3.93939394,\n",
       "        4.04040404,  4.14141414,  4.24242424,  4.34343434,  4.44444444,\n",
       "        4.54545455,  4.64646465,  4.74747475,  4.84848485,  4.94949495,\n",
       "        5.05050505,  5.15151515,  5.25252525,  5.35353535,  5.45454545,\n",
       "        5.55555556,  5.65656566,  5.75757576,  5.85858586,  5.95959596,\n",
       "        6.06060606,  6.16161616,  6.26262626,  6.36363636,  6.46464646,\n",
       "        6.56565657,  6.66666667,  6.76767677,  6.86868687,  6.96969697,\n",
       "        7.07070707,  7.17171717,  7.27272727,  7.37373737,  7.47474747,\n",
       "        7.57575758,  7.67676768,  7.77777778,  7.87878788,  7.97979798,\n",
       "        8.08080808,  8.18181818,  8.28282828,  8.38383838,  8.48484848,\n",
       "        8.58585859,  8.68686869,  8.78787879,  8.88888889,  8.98989899,\n",
       "        9.09090909,  9.19191919,  9.29292929,  9.39393939,  9.49494949,\n",
       "        9.5959596 ,  9.6969697 ,  9.7979798 ,  9.8989899 , 10.        ])"
      ]
     },
     "execution_count": 46,
     "metadata": {},
     "output_type": "execute_result"
    }
   ],
   "source": [
    "np.linspace(0,10,100)"
   ]
  },
  {
   "cell_type": "code",
   "execution_count": 47,
   "id": "dddd5a62",
   "metadata": {},
   "outputs": [
    {
     "data": {
      "text/plain": [
       "array([1.00000000e+00, 3.59381366e+00, 1.29154967e+01, 4.64158883e+01,\n",
       "       1.66810054e+02, 5.99484250e+02, 2.15443469e+03, 7.74263683e+03,\n",
       "       2.78255940e+04, 1.00000000e+05])"
      ]
     },
     "execution_count": 47,
     "metadata": {},
     "output_type": "execute_result"
    }
   ],
   "source": [
    "np.logspace(0,5,10)"
   ]
  },
  {
   "cell_type": "markdown",
   "id": "7469ddd8",
   "metadata": {},
   "source": [
    "## Reshaping in array"
   ]
  },
  {
   "cell_type": "code",
   "execution_count": 49,
   "id": "dad2e451",
   "metadata": {},
   "outputs": [
    {
     "data": {
      "text/plain": [
       "array([ 0,  1,  2,  3,  4,  5,  6,  7,  8,  9, 10, 11, 12, 13, 14, 15, 16,\n",
       "       17, 18, 19, 20, 21, 22, 23])"
      ]
     },
     "execution_count": 49,
     "metadata": {},
     "output_type": "execute_result"
    }
   ],
   "source": [
    "x=np.arange(24)\n",
    "x"
   ]
  },
  {
   "cell_type": "code",
   "execution_count": 50,
   "id": "b9b46cda",
   "metadata": {},
   "outputs": [
    {
     "data": {
      "text/plain": [
       "array([[ 0,  1,  2,  3,  4,  5,  6,  7],\n",
       "       [ 8,  9, 10, 11, 12, 13, 14, 15],\n",
       "       [16, 17, 18, 19, 20, 21, 22, 23]])"
      ]
     },
     "execution_count": 50,
     "metadata": {},
     "output_type": "execute_result"
    }
   ],
   "source": [
    "x.reshape(3,8)"
   ]
  },
  {
   "cell_type": "code",
   "execution_count": 51,
   "id": "b41f54a4",
   "metadata": {},
   "outputs": [
    {
     "data": {
      "text/plain": [
       "array([ 0,  1,  2,  3,  4,  5,  6,  7,  8,  9, 10, 11, 12, 13, 14, 15, 16,\n",
       "       17, 18, 19, 20, 21, 22, 23])"
      ]
     },
     "execution_count": 51,
     "metadata": {},
     "output_type": "execute_result"
    }
   ],
   "source": [
    "#get the size and shape\n",
    "\n",
    "x"
   ]
  },
  {
   "cell_type": "code",
   "execution_count": 52,
   "id": "e8edd0b2",
   "metadata": {},
   "outputs": [
    {
     "data": {
      "text/plain": [
       "24"
      ]
     },
     "execution_count": 52,
     "metadata": {},
     "output_type": "execute_result"
    }
   ],
   "source": [
    "x.size"
   ]
  },
  {
   "cell_type": "code",
   "execution_count": 53,
   "id": "52fb0726",
   "metadata": {},
   "outputs": [
    {
     "data": {
      "text/plain": [
       "(24,)"
      ]
     },
     "execution_count": 53,
     "metadata": {},
     "output_type": "execute_result"
    }
   ],
   "source": [
    "x.shape"
   ]
  },
  {
   "cell_type": "markdown",
   "id": "b3305ec9",
   "metadata": {},
   "source": [
    "## check truth value of an array"
   ]
  },
  {
   "cell_type": "code",
   "execution_count": 54,
   "id": "fe10ea3f",
   "metadata": {},
   "outputs": [
    {
     "data": {
      "text/plain": [
       "array([ 0,  1,  2,  3,  4,  5,  6,  7,  8,  9, 10, 11, 12, 13, 14, 15, 16,\n",
       "       17, 18, 19, 20, 21, 22, 23])"
      ]
     },
     "execution_count": 54,
     "metadata": {},
     "output_type": "execute_result"
    }
   ],
   "source": [
    "x"
   ]
  },
  {
   "cell_type": "code",
   "execution_count": 55,
   "id": "a3fc14ca",
   "metadata": {},
   "outputs": [
    {
     "data": {
      "text/plain": [
       "True"
      ]
     },
     "execution_count": 55,
     "metadata": {},
     "output_type": "execute_result"
    }
   ],
   "source": [
    "x.any()"
   ]
  },
  {
   "cell_type": "code",
   "execution_count": 56,
   "id": "03c5366d",
   "metadata": {},
   "outputs": [
    {
     "data": {
      "text/plain": [
       "False"
      ]
     },
     "execution_count": 56,
     "metadata": {},
     "output_type": "execute_result"
    }
   ],
   "source": [
    "x.all()"
   ]
  },
  {
   "cell_type": "code",
   "execution_count": 57,
   "id": "f740ea42",
   "metadata": {},
   "outputs": [
    {
     "data": {
      "text/plain": [
       "False"
      ]
     },
     "execution_count": 57,
     "metadata": {},
     "output_type": "execute_result"
    }
   ],
   "source": [
    "np.array([]).any()"
   ]
  },
  {
   "cell_type": "markdown",
   "id": "65633109",
   "metadata": {},
   "source": [
    "## Transpose"
   ]
  },
  {
   "cell_type": "code",
   "execution_count": 58,
   "id": "9c2091a3",
   "metadata": {},
   "outputs": [
    {
     "data": {
      "text/plain": [
       "array([[ 0,  1,  2,  3,  4,  5,  6,  7],\n",
       "       [ 8,  9, 10, 11, 12, 13, 14, 15],\n",
       "       [16, 17, 18, 19, 20, 21, 22, 23]])"
      ]
     },
     "execution_count": 58,
     "metadata": {},
     "output_type": "execute_result"
    }
   ],
   "source": [
    "x.reshape(3,8)"
   ]
  },
  {
   "cell_type": "code",
   "execution_count": 59,
   "id": "4b5da1e0",
   "metadata": {},
   "outputs": [
    {
     "data": {
      "text/plain": [
       "array([[ 0,  8, 16],\n",
       "       [ 1,  9, 17],\n",
       "       [ 2, 10, 18],\n",
       "       [ 3, 11, 19],\n",
       "       [ 4, 12, 20],\n",
       "       [ 5, 13, 21],\n",
       "       [ 6, 14, 22],\n",
       "       [ 7, 15, 23]])"
      ]
     },
     "execution_count": 59,
     "metadata": {},
     "output_type": "execute_result"
    }
   ],
   "source": [
    "x.reshape(3,8).T"
   ]
  },
  {
   "cell_type": "markdown",
   "id": "cd3ae7d6",
   "metadata": {},
   "source": [
    "## maths"
   ]
  },
  {
   "cell_type": "code",
   "execution_count": 60,
   "id": "cb1594f1",
   "metadata": {},
   "outputs": [
    {
     "data": {
      "text/plain": [
       "array([[ 0,  1,  2,  3,  4,  5,  6,  7],\n",
       "       [ 8,  9, 10, 11, 12, 13, 14, 15],\n",
       "       [16, 17, 18, 19, 20, 21, 22, 23]])"
      ]
     },
     "execution_count": 60,
     "metadata": {},
     "output_type": "execute_result"
    }
   ],
   "source": [
    "y=x.reshape(3,8)\n",
    "y"
   ]
  },
  {
   "cell_type": "code",
   "execution_count": 61,
   "id": "c5e917c3",
   "metadata": {},
   "outputs": [
    {
     "data": {
      "text/plain": [
       "array([[ 5,  6,  7,  8,  9, 10, 11, 12],\n",
       "       [13, 14, 15, 16, 17, 18, 19, 20],\n",
       "       [21, 22, 23, 24, 25, 26, 27, 28]])"
      ]
     },
     "execution_count": 61,
     "metadata": {},
     "output_type": "execute_result"
    }
   ],
   "source": [
    "y+5"
   ]
  },
  {
   "cell_type": "code",
   "execution_count": 66,
   "id": "1b94d8e9",
   "metadata": {},
   "outputs": [
    {
     "data": {
      "text/plain": [
       "array([[0],\n",
       "       [1],\n",
       "       [2]])"
      ]
     },
     "execution_count": 66,
     "metadata": {},
     "output_type": "execute_result"
    }
   ],
   "source": [
    "z=np.arange(3).reshape(3,1)\n",
    "z"
   ]
  },
  {
   "cell_type": "code",
   "execution_count": 67,
   "id": "cb59406b",
   "metadata": {},
   "outputs": [
    {
     "data": {
      "text/plain": [
       "array([[ 0,  1,  2,  3,  4,  5,  6,  7],\n",
       "       [ 9, 10, 11, 12, 13, 14, 15, 16],\n",
       "       [18, 19, 20, 21, 22, 23, 24, 25]])"
      ]
     },
     "execution_count": 67,
     "metadata": {},
     "output_type": "execute_result"
    }
   ],
   "source": [
    "y + z"
   ]
  },
  {
   "cell_type": "markdown",
   "id": "13b92afe",
   "metadata": {},
   "source": [
    "## Statistical Summarry"
   ]
  },
  {
   "cell_type": "code",
   "execution_count": 68,
   "id": "c1987d1b",
   "metadata": {},
   "outputs": [
    {
     "data": {
      "text/plain": [
       "array([ 0,  1,  2,  3,  4,  5,  6,  7,  8,  9, 10, 11, 12, 13, 14, 15, 16,\n",
       "       17, 18, 19, 20, 21, 22, 23])"
      ]
     },
     "execution_count": 68,
     "metadata": {},
     "output_type": "execute_result"
    }
   ],
   "source": [
    "x"
   ]
  },
  {
   "cell_type": "code",
   "execution_count": 69,
   "id": "996c13bb",
   "metadata": {},
   "outputs": [
    {
     "data": {
      "text/plain": [
       "276"
      ]
     },
     "execution_count": 69,
     "metadata": {},
     "output_type": "execute_result"
    }
   ],
   "source": [
    "x.sum()"
   ]
  },
  {
   "cell_type": "code",
   "execution_count": 70,
   "id": "6e3503f3",
   "metadata": {},
   "outputs": [
    {
     "data": {
      "text/plain": [
       "11.5"
      ]
     },
     "execution_count": 70,
     "metadata": {},
     "output_type": "execute_result"
    }
   ],
   "source": [
    "x.mean()"
   ]
  },
  {
   "cell_type": "code",
   "execution_count": 71,
   "id": "72eed1da",
   "metadata": {},
   "outputs": [
    {
     "data": {
      "text/plain": [
       "23"
      ]
     },
     "execution_count": 71,
     "metadata": {},
     "output_type": "execute_result"
    }
   ],
   "source": [
    "x.max()"
   ]
  },
  {
   "cell_type": "code",
   "execution_count": 72,
   "id": "a8751b50",
   "metadata": {},
   "outputs": [
    {
     "data": {
      "text/plain": [
       "0"
      ]
     },
     "execution_count": 72,
     "metadata": {},
     "output_type": "execute_result"
    }
   ],
   "source": [
    "x.min()"
   ]
  },
  {
   "cell_type": "code",
   "execution_count": 73,
   "id": "021505d9",
   "metadata": {},
   "outputs": [
    {
     "data": {
      "text/plain": [
       "6.922186552431729"
      ]
     },
     "execution_count": 73,
     "metadata": {},
     "output_type": "execute_result"
    }
   ],
   "source": [
    "x.std()"
   ]
  },
  {
   "cell_type": "code",
   "execution_count": 74,
   "id": "f339e7b8",
   "metadata": {},
   "outputs": [
    {
     "data": {
      "text/plain": [
       "0"
      ]
     },
     "execution_count": 74,
     "metadata": {},
     "output_type": "execute_result"
    }
   ],
   "source": [
    "x.prod()"
   ]
  },
  {
   "cell_type": "code",
   "execution_count": 76,
   "id": "b80989cc",
   "metadata": {},
   "outputs": [
    {
     "data": {
      "text/plain": [
       "862453760"
      ]
     },
     "execution_count": 76,
     "metadata": {},
     "output_type": "execute_result"
    }
   ],
   "source": [
    "x[1:].prod()"
   ]
  },
  {
   "cell_type": "markdown",
   "id": "ced0409e",
   "metadata": {},
   "source": [
    "## Random Numbers and distribution in numpy"
   ]
  },
  {
   "cell_type": "code",
   "execution_count": 77,
   "id": "e670e6d2",
   "metadata": {},
   "outputs": [],
   "source": [
    "import matplotlib.pyplot as plt\n",
    "%matplotlib inline"
   ]
  },
  {
   "cell_type": "markdown",
   "id": "32267943",
   "metadata": {},
   "source": [
    "## Seeding"
   ]
  },
  {
   "cell_type": "code",
   "execution_count": 78,
   "id": "502c0f81",
   "metadata": {},
   "outputs": [],
   "source": [
    "np.random.seed(123)"
   ]
  },
  {
   "cell_type": "code",
   "execution_count": 79,
   "id": "a663ffb2",
   "metadata": {},
   "outputs": [
    {
     "data": {
      "text/plain": [
       "array([0.69646919, 0.28613933, 0.22685145, 0.55131477, 0.71946897])"
      ]
     },
     "execution_count": 79,
     "metadata": {},
     "output_type": "execute_result"
    }
   ],
   "source": [
    "np.random.rand(5)"
   ]
  },
  {
   "cell_type": "code",
   "execution_count": 80,
   "id": "66611a63",
   "metadata": {},
   "outputs": [
    {
     "data": {
      "text/plain": [
       "array([[0.42310646, 0.9807642 , 0.68482974],\n",
       "       [0.4809319 , 0.39211752, 0.34317802],\n",
       "       [0.72904971, 0.43857224, 0.0596779 ],\n",
       "       [0.39804426, 0.73799541, 0.18249173],\n",
       "       [0.17545176, 0.53155137, 0.53182759]])"
      ]
     },
     "execution_count": 80,
     "metadata": {},
     "output_type": "execute_result"
    }
   ],
   "source": [
    "np.random.rand(5,3)"
   ]
  },
  {
   "cell_type": "code",
   "execution_count": 81,
   "id": "473a01d1",
   "metadata": {},
   "outputs": [
    {
     "data": {
      "text/plain": [
       "array([ 9.80640575, 11.09659076, 10.34673195,  9.66614106, 10.3346603 ])"
      ]
     },
     "execution_count": 81,
     "metadata": {},
     "output_type": "execute_result"
    }
   ],
   "source": [
    "a= 6; b=12\n",
    "\n",
    "(b-a)*np.random.rand(5)+a"
   ]
  },
  {
   "cell_type": "markdown",
   "id": "4f53e4c4",
   "metadata": {},
   "source": [
    "## normal Distribution"
   ]
  },
  {
   "cell_type": "code",
   "execution_count": 83,
   "id": "e2475b24",
   "metadata": {},
   "outputs": [
    {
     "data": {
      "text/plain": [
       "array([-1.10098526, -1.4103012 , -0.74765132, -0.98486761, -0.74856868])"
      ]
     },
     "execution_count": 83,
     "metadata": {},
     "output_type": "execute_result"
    }
   ],
   "source": [
    "np.random.randn(5)"
   ]
  },
  {
   "cell_type": "code",
   "execution_count": 84,
   "id": "7b72b004",
   "metadata": {},
   "outputs": [
    {
     "data": {
      "text/plain": [
       "array([[ 0.24036728, -1.85563747, -1.7794548 , -2.75022426],\n",
       "       [-0.23415755, -0.69598118, -1.77413406,  2.36160126],\n",
       "       [ 0.03499308, -0.34464169, -0.72503229,  1.03960617],\n",
       "       [-0.24172804, -0.11290536, -1.66069578,  0.01353855],\n",
       "       [ 0.33737412, -0.92662298,  0.27574741,  0.37085233]])"
      ]
     },
     "execution_count": 84,
     "metadata": {},
     "output_type": "execute_result"
    }
   ],
   "source": [
    "np.random.randn(5,4)"
   ]
  },
  {
   "cell_type": "code",
   "execution_count": 85,
   "id": "917d6bb2",
   "metadata": {},
   "outputs": [],
   "source": [
    "mu=5; sigma=2"
   ]
  },
  {
   "cell_type": "code",
   "execution_count": 86,
   "id": "2be76461",
   "metadata": {},
   "outputs": [
    {
     "data": {
      "text/plain": [
       "array([7.34861429, 0.93541504, 6.16501658, 3.5576484 , 1.5951528 ])"
      ]
     },
     "execution_count": 86,
     "metadata": {},
     "output_type": "execute_result"
    }
   ],
   "source": [
    "mu + sigma * np.random.randn(5)"
   ]
  },
  {
   "cell_type": "code",
   "execution_count": 87,
   "id": "8b402511",
   "metadata": {},
   "outputs": [],
   "source": [
    "x1=np.random.randn(10000)\n",
    "x2= mu + sigma * np.random.rand(10000)"
   ]
  },
  {
   "cell_type": "code",
   "execution_count": 90,
   "id": "a686a625",
   "metadata": {},
   "outputs": [
    {
     "data": {
      "image/png": "[encoded data removed]",
      "text/plain": [
       "<Figure size 1000x600 with 1 Axes>"
      ]
     },
     "metadata": {},
     "output_type": "display_data"
    }
   ],
   "source": [
    "plt.figure(figsize=(10,6))\n",
    "plt.hist(x1, bins=20, alpha = 0.4)\n",
    "plt.hist(x2, bins=20, alpha = 0.4)\n",
    "plt.show()"
   ]
  },
  {
   "cell_type": "markdown",
   "id": "48b5f9d2",
   "metadata": {},
   "source": [
    "## Random Integers"
   ]
  },
  {
   "cell_type": "code",
   "execution_count": 91,
   "id": "7d509a1c",
   "metadata": {},
   "outputs": [
    {
     "data": {
      "text/plain": [
       "array([0, 1, 0, 0, 0, 1, 1, 1, 0, 0])"
      ]
     },
     "execution_count": 91,
     "metadata": {},
     "output_type": "execute_result"
    }
   ],
   "source": [
    "np.random.randint(2, size=10)"
   ]
  },
  {
   "cell_type": "code",
   "execution_count": 93,
   "id": "6084566b",
   "metadata": {},
   "outputs": [
    {
     "data": {
      "text/plain": [
       "array([17, 13, 14, 14, 11, 19,  6,  9, 17, 11, 10,  7, 13, 17,  5, 14,  8,\n",
       "        8, 13, 12,  7,  6, 10, 15,  9, 15,  7,  7,  7, 19, 10, 13, 19, 12,\n",
       "        8, 15, 16, 15, 18, 12,  7, 11,  9, 18, 19, 18, 14, 15, 10, 15])"
      ]
     },
     "execution_count": 93,
     "metadata": {},
     "output_type": "execute_result"
    }
   ],
   "source": [
    "np.random.randint(5,20, size= 50)"
   ]
  },
  {
   "cell_type": "code",
   "execution_count": 94,
   "id": "82ceef60",
   "metadata": {},
   "outputs": [
    {
     "data": {
      "text/plain": [
       "array([[ 9, 17,  6, 12, 13, 13, 14],\n",
       "       [15, 13, 19, 11,  7, 11,  7],\n",
       "       [15, 10, 12, 19, 12, 16, 15],\n",
       "       [17, 13,  9, 11,  9,  6, 12]])"
      ]
     },
     "execution_count": 94,
     "metadata": {},
     "output_type": "execute_result"
    }
   ],
   "source": [
    "np.random.randint(5,20, size= (4,7))"
   ]
  },
  {
   "cell_type": "code",
   "execution_count": null,
   "id": "5ce92bc7",
   "metadata": {},
   "outputs": [],
   "source": []
  }
 ],
 "metadata": {
  "kernelspec": {
   "display_name": "Python 3 (ipykernel)",
   "language": "python",
   "name": "python3"
  },
  "language_info": {
   "codemirror_mode": {
    "name": "ipython",
    "version": 3
   },
   "file_extension": ".py",
   "mimetype": "text/x-python",
   "name": "python",
   "nbconvert_exporter": "python",
   "pygments_lexer": "ipython3",
   "version": "3.9.13"
  }
 },
 "nbformat": 4,
 "nbformat_minor": 5
}
